{
 "cells": [
  {
   "cell_type": "markdown",
   "id": "6c8d9b9f",
   "metadata": {
    "papermill": {
     "duration": 0.013332,
     "end_time": "2023-07-14T08:57:42.700849",
     "exception": false,
     "start_time": "2023-07-14T08:57:42.687517",
     "status": "completed"
    },
    "tags": []
   },
   "source": [
    "# INTRODUCTION\n",
    "\n",
    "AI Ethics is a relatively new field that emerged alongside the rapid advancements of AI. As AI continues to advance, the risks of misusing it also grows. In order to deal with this, the need to explore and establish ethical frameworks or guidelines becomes more crucial. \n",
    "\n",
    "## What to expect in this notebook?\n",
    "**Part 1** is where I will share news about AI Ethics from the past two years.\n",
    "\n",
    "**Part 2** is where I will provide a short analysis on the [arXiv dataset](https://www.kaggle.com/datasets/Cornell-University/arxiv) provided by the competition and which I edited to be a new [dataset](https://www.kaggle.com/datasets/raimondextervinluan/arxiv-ethics).\n",
    "\n",
    "**Part 3** is where I will contruct a short narrative essay about my own learnings and opinions about the state of AI Ethics.\n",
    "\n",
    "# Importance \n",
    "Before diving in to the current state of AI ethics or what has currently happened for the last two years, I will discuss first on why AI ethics is important.\n",
    "\n",
    "Voice-cloning, an AI scam for years. An [NPR article](https://www.npr.org/2023/03/22/1165448073/voice-clones-ai-scams-ftc) published that Federal Trade Consumer (FTC) issued a consumer alert urging people to be vigilant for calls, where it clones the voice's of your loved ones using AI.\n",
    "\n",
    "The reason that voice-cloning is being misused is because it's been made without proper regulations and wihout basing it on a guideline of how AI should be used and implemented.\n",
    "\n",
    "There are other issues with implementing AI such as who should take responsibility when it provided an incorrect decision or how AI came up with its decision. That's why, AI should be regulated by basing it on human ethical standards."
   ]
  },
  {
   "cell_type": "markdown",
   "id": "2100f196",
   "metadata": {
    "papermill": {
     "duration": 0.010404,
     "end_time": "2023-07-14T08:57:42.722209",
     "exception": false,
     "start_time": "2023-07-14T08:57:42.711805",
     "status": "completed"
    },
    "tags": []
   },
   "source": [
    "# PART 1: NEWS\n",
    "As I said, this is the part where I will share news about AI Ethics. However, take note that I am sure that I missed some important details from the past two years and I cannot cover everything.\n",
    "\n",
    "# 2021\n",
    "**A. June 28** <br>\n",
    "Guidelines for AI Ethics are crucial especially when AI is expected to perform correctly in an industry sector without the risks of ethical concerns. A [news article from WHO](https://www.who.int/news/item/28-06-2021-who-issues-first-global-report-on-ai-in-health-and-six-guiding-principles-for-its-design-and-use) states that WHO published the **first global report about AI** where it outlines 6 guiding principles for designing and using it in the health sector. These are the **six guiding principles**:\n",
    "1. Protect human autonomy.\n",
    "2. Promote human well-being, human safety, and public interest.\n",
    "3. Ensure transparency, explainability, and intelligebility.\n",
    "4. Foster responsibility and accountability.\n",
    "5. Ensure inclusiveness and equity.\n",
    "6. Promote AI that is responsive and sustainable.\n",
    "\n",
    "The reason that WHO published this is that they acknowledge the ethical challenges and risks from AI such as bias and discrimination, which will be more harmful in the health sector. By providing these principles, those problems can be confronted.\n",
    "\n",
    "**B. August 9** <br>\n",
    "To have an ethical guideline, *someone* should build and assess it. An [article from Forbes](https://www.forbes.com/sites/markminevich/2021/08/09/15-ai-ethics-leaders-showing-the-world-the-way-of-the-future/?sh=40c9eac16bdf) shared the qualifications of an **AI Ethicist** and some people who are already filling that role.\n",
    "\n",
    "An AI Ethicist should be someone who has an understanding of AI tools, technology of the business, and AI traps that exists in a specific industry. They should also possess good communication skills, and legal and policy knowledge.\n",
    "\n",
    "Two of the AI Ethicists mentioned are **Francesca Rossi** and **Steve Mills**.\n",
    "\n",
    "**Francesca Rossi**, an IBM fellow strives to foster collaboration between people and machines in a way that is both trustworthy and beneficial. On the other hand, **Steve Mills**, a Chief AI Ethics Officer at BCG says that algorithms should be as bias-free as possible while thinking the full end-to-end system.\n",
    "\n",
    "Having a definite role for AI ethics can be a good stepping stone for implementing AI ethics for the reason that they can serve as the main mediator for ethics and AI.\n",
    "\n",
    "**C. November 25** <br>\n",
    "Having an ethical guideline but noone follows it is the same as having no ethical guideline. That's why a consensus from multiple people or organizations is important to ensure that the existing guideline will be followed. A [news article from UN News](https://news.un.org/en/story/2021/11/1106612) states that **193 countries** adopted the **first-ever global agreement on AI Ethics**. These are what the agreement aims, \"ensure that digital transformations promote human rights and contribute to the achievement of the Sustainable Development Goals (SDG), addressing issues around transparency, accountability and privacy, with action-oriented policy chapters on data governance, education, culture, labour, healthcare and the economy.\" Additionally, it also should favor data, energy, and resource-efficient methods so that AI is sure to help tackle environmental problems.\n",
    "\n",
    "Having a recognized global agreement means that many countries are taking AI Ethics more seriously.\n",
    "\n",
    "# 2022\n",
    "**A. October 4** <br>\n",
    "Since AI guidelines/frameworks are still not considered laws, many still attempts to make more in order to address the ethical concerns of AI. [The White House](https://www.whitehouse.gov/ostp/news-updates/2022/10/04/remarks-of-dr-alondra-nelson-at-the-white-house-gathering-on-technology-civil-rights-and-democratic-values/) released the **Blueprint for an AI Bill of Rights** where it is a call to make these five core protections into a reality: <br>\n",
    "**Core 1**: The systems you use should work, be safe and effective. <br>\n",
    "**Core 2**: You should be protected from algorithmic discrimination, and automated systems should be used and designed in an equitable way. <br>\n",
    "**Core 3**: You should be protected from abusive data practices via built-in protections, and you should have agency over how data about you is used.<br>\n",
    "**Core 4**: You should know when an automated system is being used and understand how and why it contributes to outcomes that impact you.\n",
    "<br>\n",
    "**Core 5**: You should be able to opt out and have access to a human being who can quickly help you solve the problem.<br>\n",
    "\n",
    "It is stated from the article that poorly designed systems are being abused to cause harm to people and to limit access to opportunities. So, these core principles aims to protect the people and to make sure to include people in designing systems, which is related to the goal of AI Ethics.\n",
    "\n",
    "**B. December 28** <br>\n",
    "Previously, I mentioned that more guidelines or frameworks are being made however, this [article from Forbes](https://www.forbes.com/sites/cindygordon/2022/12/28/2023-will-be-the-year-of-ai-ethics-legislation-acceleration/?sh=3d0c833be855) claims that the year 2023 will be the **year of AI Ethics Legislation**. This is for the reason that Europe, USA, and Canada implementing regulatory controls.\n",
    "\n",
    "**Europe** proposed *The AI Act* where it regulates the use of AI and divides AI into risk categories to the rights of citizens. <br>\n",
    "For the **USA**, this is the aforementioned *Blueprint for an AI Bill of Rights*. <br>\n",
    "And lastly, **Canada**. Canada has a section of *Canada's AI and Data Act* where it is designed to strengthen Canada's private sector privary law, and create new rules for the responsible development and deployment of AI.\n",
    "\n",
    "These proposed regulations can be a stepping stone for making AI ethics laws.\n",
    "\n",
    "# 2023\n",
    "**A. January 17** <br>\n",
    "Having a credible organization or entity for ethical standards will pave many ways for implementing AI ethics guidelines. [IEEE Standards Association](https://standards.ieee.org/news/get-program-ai-ethics/) announced the launch of a new program that will provide free access to AI ethics and governance standards. The program is called **IEEE GET Program (Global Ethical Technology)** and it aims to help organizations to develop more trustworthy AIs. In order for an organization to access the program, they must register. Once registerd, they will received the following resources:\n",
    "1. Ethical standards that address ethical considerations for AI systems.\n",
    "2. Guidelines that provide practical advice on how to incorporate ethical considerations into their systems.\n",
    "3. Training materials that will help educate their employees about AI Ethics.\n",
    "\n",
    "This program is a good step for having standards and trainings for AI ethics.\n",
    "\n",
    "**B. June 28** <br>\n",
    "Since AI development affects everyone, everyone is concerned on its ethical considerations. An [article from Gizmodo](https://gizmodo.com/pope-francis-vatican-releases-ai-ethics-1850583076) states that **Vatican releases its own AI Ethics Handbook** titled **Ethics in the Age of Disruptive Technologies: An Operational Roadmap**. The reason for this is that Vatican wields a unique ability to bring key players to the table and to bring executives from the entire world together. The handbook contains one anchor principle: \"Our actions are for the Common Good of Humanity and the Environment.\" And this anchor principles is broken down into seven guidelines which can also be broken down into 46 actionable steps. An example was given from the article, the principle \"Respect for Human Dignity and Rights\". Some actionable steps from this principle are \"not collect more data than necessary\" and \"collected data should be stored in a manner that optimizes the protection of privacy and confidentiality\".\n",
    "\n",
    "This is the same as the **first-ever global agreement on AI Ethics** mentioned above. Having a global agreement for AI ethics can provide faster progress to it.\n",
    "\n",
    "# SUMMARY OF PART 1\n",
    "Over the past two years, there have been numerous attempts all over the world on making ethical guidelines and frameworks that might work for the field of AI. There is also an introduction of a new role, which is an AI Ethicist. These discoveries proves that more people are getting involved with AI ethics."
   ]
  },
  {
   "cell_type": "markdown",
   "id": "487ca10c",
   "metadata": {
    "papermill": {
     "duration": 0.010933,
     "end_time": "2023-07-14T08:57:42.744103",
     "exception": false,
     "start_time": "2023-07-14T08:57:42.733170",
     "status": "completed"
    },
    "tags": []
   },
   "source": [
    "# PART 2: ANALYSIS\n",
    "From PART 1, I have discussed some news articles from two years ago with regards to AI ethics such as organization stepping in and guidelines being suggested. Now, moving on to PART 2. Since this part involves a short analysis and will directly read a dataset, certain libraries are need. Some of the codes and outputs will be hidden for the reason that they may take up too much space.\n",
    "\n",
    "**This part will focus on the dataset given by the competition.**"
   ]
  },
  {
   "cell_type": "markdown",
   "id": "80aedf7f",
   "metadata": {
    "papermill": {
     "duration": 0.010472,
     "end_time": "2023-07-14T08:57:42.765619",
     "exception": false,
     "start_time": "2023-07-14T08:57:42.755147",
     "status": "completed"
    },
    "tags": []
   },
   "source": [
    "# Reading of Data\n",
    "Certain libraries will be imported. **pandas** and **numpy** for preprocessing the data. **matplotlib** and **seaborn** will be used for visualizations."
   ]
  },
  {
   "cell_type": "code",
   "execution_count": 1,
   "id": "83b41699",
   "metadata": {
    "_kg_hide-input": true,
    "execution": {
     "iopub.execute_input": "2023-07-14T08:57:42.789341Z",
     "iopub.status.busy": "2023-07-14T08:57:42.788692Z",
     "iopub.status.idle": "2023-07-14T08:57:44.419372Z",
     "shell.execute_reply": "2023-07-14T08:57:44.416879Z"
    },
    "papermill": {
     "duration": 1.645729,
     "end_time": "2023-07-14T08:57:44.422146",
     "exception": false,
     "start_time": "2023-07-14T08:57:42.776417",
     "status": "completed"
    },
    "tags": []
   },
   "outputs": [
    {
     "name": "stdout",
     "output_type": "stream",
     "text": [
      "Importing of libraries done.\n"
     ]
    }
   ],
   "source": [
    "# for reading and processing data\n",
    "import pandas as pd\n",
    "import numpy as np\n",
    "\n",
    "# for visualizations\n",
    "import matplotlib.pyplot as plt\n",
    "%matplotlib inline\n",
    "import seaborn as sns\n",
    "\n",
    "print(\"Importing of libraries done.\")"
   ]
  },
  {
   "cell_type": "markdown",
   "id": "df70fa73",
   "metadata": {
    "papermill": {
     "duration": 0.010867,
     "end_time": "2023-07-14T08:57:44.444511",
     "exception": false,
     "start_time": "2023-07-14T08:57:44.433644",
     "status": "completed"
    },
    "tags": []
   },
   "source": [
    "Now that the needed libraries are imported, I will read a dataset and that dataset is [this](https://www.kaggle.com/datasets/raimondextervinluan/arxiv-ethics). This dataset is based on the given [arXiv metadata](https://www.kaggle.com/datasets/Cornell-University/arxiv) but removed some columns but also added some.\n",
    "\n",
    "The dataset is based on whether the abstract contains the word **ethics** or **not** under the following categories: \n",
    "1. *Artificial Intelligence(cs.AI)*\n",
    "2. *Computers and Society(cs.CY)*\n",
    "3. *Emerging Technologies(cs.ET)*\n",
    "4. *Machine Learning(cs.LG)*\n",
    "5. *Other Computer Science(cs.OH)*\n",
    "6. *Robotics(cs.RO)*. \n",
    "\n",
    "The categories can be found [here](https://arxiv.org/category_taxonomy)."
   ]
  },
  {
   "cell_type": "code",
   "execution_count": 2,
   "id": "0261237c",
   "metadata": {
    "execution": {
     "iopub.execute_input": "2023-07-14T08:57:44.469451Z",
     "iopub.status.busy": "2023-07-14T08:57:44.468814Z",
     "iopub.status.idle": "2023-07-14T08:57:45.042556Z",
     "shell.execute_reply": "2023-07-14T08:57:45.041464Z"
    },
    "papermill": {
     "duration": 0.589366,
     "end_time": "2023-07-14T08:57:45.045092",
     "exception": false,
     "start_time": "2023-07-14T08:57:44.455726",
     "status": "completed"
    },
    "tags": []
   },
   "outputs": [
    {
     "data": {
      "text/html": [
       "<div>\n",
       "<style scoped>\n",
       "    .dataframe tbody tr th:only-of-type {\n",
       "        vertical-align: middle;\n",
       "    }\n",
       "\n",
       "    .dataframe tbody tr th {\n",
       "        vertical-align: top;\n",
       "    }\n",
       "\n",
       "    .dataframe thead th {\n",
       "        text-align: right;\n",
       "    }\n",
       "</style>\n",
       "<table border=\"1\" class=\"dataframe\">\n",
       "  <thead>\n",
       "    <tr style=\"text-align: right;\">\n",
       "      <th></th>\n",
       "      <th>Unnamed: 0</th>\n",
       "      <th>ID</th>\n",
       "      <th>Link</th>\n",
       "      <th>Title</th>\n",
       "      <th>Category</th>\n",
       "      <th>Abstract</th>\n",
       "      <th>Directly Related to AI Ethics</th>\n",
       "      <th>Provide Ethical Guideline/Framework</th>\n",
       "      <th>Problems/Challenges in Implementing AI Ethics</th>\n",
       "      <th>Awareness about AI Ethics</th>\n",
       "    </tr>\n",
       "  </thead>\n",
       "  <tbody>\n",
       "    <tr>\n",
       "      <th>0</th>\n",
       "      <td>0</td>\n",
       "      <td>2101.00786</td>\n",
       "      <td>https://arxiv.org/pdf/2101.00786</td>\n",
       "      <td>Do Abstractions Have Politics? Toward a More C...</td>\n",
       "      <td>cs.CY</td>\n",
       "      <td>The expansion of computer science (CS) educa...</td>\n",
       "      <td>No</td>\n",
       "      <td>NaN</td>\n",
       "      <td>NaN</td>\n",
       "      <td>NaN</td>\n",
       "    </tr>\n",
       "    <tr>\n",
       "      <th>1</th>\n",
       "      <td>1</td>\n",
       "      <td>2101.05957</td>\n",
       "      <td>https://arxiv.org/pdf/2101.05957</td>\n",
       "      <td>Descriptive AI Ethics: Collecting and Understa...</td>\n",
       "      <td>cs.CY cs.AI</td>\n",
       "      <td>There is a growing need for data-driven rese...</td>\n",
       "      <td>Yes</td>\n",
       "      <td>Yes</td>\n",
       "      <td>No</td>\n",
       "      <td>No</td>\n",
       "    </tr>\n",
       "  </tbody>\n",
       "</table>\n",
       "</div>"
      ],
      "text/plain": [
       "   Unnamed: 0          ID                              Link  \\\n",
       "0           0  2101.00786  https://arxiv.org/pdf/2101.00786   \n",
       "1           1  2101.05957  https://arxiv.org/pdf/2101.05957   \n",
       "\n",
       "                                               Title     Category  \\\n",
       "0  Do Abstractions Have Politics? Toward a More C...        cs.CY   \n",
       "1  Descriptive AI Ethics: Collecting and Understa...  cs.CY cs.AI   \n",
       "\n",
       "                                            Abstract  \\\n",
       "0    The expansion of computer science (CS) educa...   \n",
       "1    There is a growing need for data-driven rese...   \n",
       "\n",
       "  Directly Related to AI Ethics Provide Ethical Guideline/Framework  \\\n",
       "0                            No                                 NaN   \n",
       "1                           Yes                                 Yes   \n",
       "\n",
       "  Problems/Challenges in Implementing AI Ethics Awareness about AI Ethics  \n",
       "0                                           NaN                       NaN  \n",
       "1                                            No                        No  "
      ]
     },
     "execution_count": 2,
     "metadata": {},
     "output_type": "execute_result"
    }
   ],
   "source": [
    "df = pd.read_excel(\"/kaggle/input/arxiv-ethics/arXiv_Excel.xlsx\")\n",
    "df.head(2)"
   ]
  },
  {
   "cell_type": "markdown",
   "id": "476a57f0",
   "metadata": {
    "papermill": {
     "duration": 0.011043,
     "end_time": "2023-07-14T08:57:45.067495",
     "exception": false,
     "start_time": "2023-07-14T08:57:45.056452",
     "status": "completed"
    },
    "tags": []
   },
   "source": [
    "These are the **columns** of the dataset:\n",
    "1. **Unnamed: 0** - the index of a row\n",
    "2. **ID** - unique ID\n",
    "3. **Link** - accesible link of the paper\n",
    "4. **Title** - title of the paper\n",
    "5. **Category** - category of the paper\n",
    "6. **Abstract** - abstract of the paper; gives the summary\n",
    "7. **Directly Related to AI Ethics** - will be converted into \"A\" for the reason that it is too long; this column is about if the study is directly related to AI Ethics. The criteria is the following:\n",
    "    <br> *a. The paper suggests frameworks or guidelines for AI Ethics*\n",
    "    <br> *b. The paper discusses the problems/challenges of why it is hard to implement AI Ethics*\n",
    "    <br> *c. The paper provides awareness about the importance of AI Ethics*\n",
    "8. **Provide Ethical Guideline/Framework** - will be converted into \"B\" for the reason that it is too long; the paper suggests a possible AI Ethics framework or discusses on what rules or guidelines to follow when imeplenting AI Ethics\n",
    "9. **Problems/Challenges in Implementing AI Ethics** - will be converted into \"C\" for the reason that it is too long; the paper discusses the limitations/challenges/problems of implementing and following AI Ethics in practice\n",
    "10. **Awareness about AI Ethics** - will be converted into \"D\" for the reason that it is too long; the paper discusses the importance of knowing/studying AI Ethics, also discusses the state of AI Ethics in different locations/time\n",
    "\n",
    "Columns 1-6 were extracted from the [arXiv metadata](https://www.kaggle.com/datasets/Cornell-University/arxiv) and columns 7-10 where manually added."
   ]
  },
  {
   "cell_type": "code",
   "execution_count": 3,
   "id": "fcb0417a",
   "metadata": {
    "_kg_hide-output": true,
    "execution": {
     "iopub.execute_input": "2023-07-14T08:57:45.091844Z",
     "iopub.status.busy": "2023-07-14T08:57:45.091190Z",
     "iopub.status.idle": "2023-07-14T08:57:45.111334Z",
     "shell.execute_reply": "2023-07-14T08:57:45.110060Z"
    },
    "papermill": {
     "duration": 0.035111,
     "end_time": "2023-07-14T08:57:45.113737",
     "exception": false,
     "start_time": "2023-07-14T08:57:45.078626",
     "status": "completed"
    },
    "tags": []
   },
   "outputs": [
    {
     "data": {
      "text/html": [
       "<div>\n",
       "<style scoped>\n",
       "    .dataframe tbody tr th:only-of-type {\n",
       "        vertical-align: middle;\n",
       "    }\n",
       "\n",
       "    .dataframe tbody tr th {\n",
       "        vertical-align: top;\n",
       "    }\n",
       "\n",
       "    .dataframe thead th {\n",
       "        text-align: right;\n",
       "    }\n",
       "</style>\n",
       "<table border=\"1\" class=\"dataframe\">\n",
       "  <thead>\n",
       "    <tr style=\"text-align: right;\">\n",
       "      <th></th>\n",
       "      <th>Unnamed: 0</th>\n",
       "      <th>ID</th>\n",
       "      <th>Link</th>\n",
       "      <th>Title</th>\n",
       "      <th>Category</th>\n",
       "      <th>Abstract</th>\n",
       "      <th>A</th>\n",
       "      <th>B</th>\n",
       "      <th>C</th>\n",
       "      <th>D</th>\n",
       "    </tr>\n",
       "  </thead>\n",
       "  <tbody>\n",
       "    <tr>\n",
       "      <th>0</th>\n",
       "      <td>0</td>\n",
       "      <td>2101.00786</td>\n",
       "      <td>https://arxiv.org/pdf/2101.00786</td>\n",
       "      <td>Do Abstractions Have Politics? Toward a More C...</td>\n",
       "      <td>cs.CY</td>\n",
       "      <td>The expansion of computer science (CS) educa...</td>\n",
       "      <td>No</td>\n",
       "      <td>NaN</td>\n",
       "      <td>NaN</td>\n",
       "      <td>NaN</td>\n",
       "    </tr>\n",
       "    <tr>\n",
       "      <th>1</th>\n",
       "      <td>1</td>\n",
       "      <td>2101.05957</td>\n",
       "      <td>https://arxiv.org/pdf/2101.05957</td>\n",
       "      <td>Descriptive AI Ethics: Collecting and Understa...</td>\n",
       "      <td>cs.CY cs.AI</td>\n",
       "      <td>There is a growing need for data-driven rese...</td>\n",
       "      <td>Yes</td>\n",
       "      <td>Yes</td>\n",
       "      <td>No</td>\n",
       "      <td>No</td>\n",
       "    </tr>\n",
       "  </tbody>\n",
       "</table>\n",
       "</div>"
      ],
      "text/plain": [
       "   Unnamed: 0          ID                              Link  \\\n",
       "0           0  2101.00786  https://arxiv.org/pdf/2101.00786   \n",
       "1           1  2101.05957  https://arxiv.org/pdf/2101.05957   \n",
       "\n",
       "                                               Title     Category  \\\n",
       "0  Do Abstractions Have Politics? Toward a More C...        cs.CY   \n",
       "1  Descriptive AI Ethics: Collecting and Understa...  cs.CY cs.AI   \n",
       "\n",
       "                                            Abstract    A    B    C    D  \n",
       "0    The expansion of computer science (CS) educa...   No  NaN  NaN  NaN  \n",
       "1    There is a growing need for data-driven rese...  Yes  Yes   No   No  "
      ]
     },
     "execution_count": 3,
     "metadata": {},
     "output_type": "execute_result"
    }
   ],
   "source": [
    "# renaming columns\n",
    "new_column_names = {\n",
    "    'Directly Related to AI Ethics': 'A',\n",
    "    'Provide Ethical Guideline/Framework': 'B',\n",
    "    'Problems/Challenges in Implementing AI Ethics': 'C',\n",
    "    'Awareness about AI Ethics': 'D'\n",
    "}\n",
    "\n",
    "df = df.rename(columns=new_column_names)\n",
    "df.head(2)"
   ]
  },
  {
   "cell_type": "markdown",
   "id": "cf317c79",
   "metadata": {
    "papermill": {
     "duration": 0.011065,
     "end_time": "2023-07-14T08:57:45.136343",
     "exception": false,
     "start_time": "2023-07-14T08:57:45.125278",
     "status": "completed"
    },
    "tags": []
   },
   "source": [
    "Now that columns names are replaced, I am only interested to papers that says \"Yes\" on column \"A\" because this notebook is about **AI Ethics**."
   ]
  },
  {
   "cell_type": "code",
   "execution_count": 4,
   "id": "a19afe80",
   "metadata": {
    "_kg_hide-output": true,
    "execution": {
     "iopub.execute_input": "2023-07-14T08:57:45.161209Z",
     "iopub.status.busy": "2023-07-14T08:57:45.160799Z",
     "iopub.status.idle": "2023-07-14T08:57:45.180978Z",
     "shell.execute_reply": "2023-07-14T08:57:45.179976Z"
    },
    "papermill": {
     "duration": 0.035218,
     "end_time": "2023-07-14T08:57:45.183095",
     "exception": false,
     "start_time": "2023-07-14T08:57:45.147877",
     "status": "completed"
    },
    "tags": []
   },
   "outputs": [
    {
     "data": {
      "text/html": [
       "<div>\n",
       "<style scoped>\n",
       "    .dataframe tbody tr th:only-of-type {\n",
       "        vertical-align: middle;\n",
       "    }\n",
       "\n",
       "    .dataframe tbody tr th {\n",
       "        vertical-align: top;\n",
       "    }\n",
       "\n",
       "    .dataframe thead th {\n",
       "        text-align: right;\n",
       "    }\n",
       "</style>\n",
       "<table border=\"1\" class=\"dataframe\">\n",
       "  <thead>\n",
       "    <tr style=\"text-align: right;\">\n",
       "      <th></th>\n",
       "      <th>Unnamed: 0</th>\n",
       "      <th>ID</th>\n",
       "      <th>Link</th>\n",
       "      <th>Title</th>\n",
       "      <th>Category</th>\n",
       "      <th>Abstract</th>\n",
       "      <th>A</th>\n",
       "      <th>B</th>\n",
       "      <th>C</th>\n",
       "      <th>D</th>\n",
       "    </tr>\n",
       "  </thead>\n",
       "  <tbody>\n",
       "    <tr>\n",
       "      <th>1</th>\n",
       "      <td>1</td>\n",
       "      <td>2101.05957</td>\n",
       "      <td>https://arxiv.org/pdf/2101.05957</td>\n",
       "      <td>Descriptive AI Ethics: Collecting and Understa...</td>\n",
       "      <td>cs.CY cs.AI</td>\n",
       "      <td>There is a growing need for data-driven rese...</td>\n",
       "      <td>Yes</td>\n",
       "      <td>Yes</td>\n",
       "      <td>No</td>\n",
       "      <td>No</td>\n",
       "    </tr>\n",
       "    <tr>\n",
       "      <th>2</th>\n",
       "      <td>2</td>\n",
       "      <td>2101.06060</td>\n",
       "      <td>https://arxiv.org/pdf/2101.06060</td>\n",
       "      <td>The Challenge of Value Alignment: from Fairer ...</td>\n",
       "      <td>cs.CY</td>\n",
       "      <td>This paper addresses the question of how to ...</td>\n",
       "      <td>Yes</td>\n",
       "      <td>Yes</td>\n",
       "      <td>Yes</td>\n",
       "      <td>Yes</td>\n",
       "    </tr>\n",
       "  </tbody>\n",
       "</table>\n",
       "</div>"
      ],
      "text/plain": [
       "   Unnamed: 0          ID                              Link  \\\n",
       "1           1  2101.05957  https://arxiv.org/pdf/2101.05957   \n",
       "2           2  2101.06060  https://arxiv.org/pdf/2101.06060   \n",
       "\n",
       "                                               Title     Category  \\\n",
       "1  Descriptive AI Ethics: Collecting and Understa...  cs.CY cs.AI   \n",
       "2  The Challenge of Value Alignment: from Fairer ...        cs.CY   \n",
       "\n",
       "                                            Abstract    A    B    C    D  \n",
       "1    There is a growing need for data-driven rese...  Yes  Yes   No   No  \n",
       "2    This paper addresses the question of how to ...  Yes  Yes  Yes  Yes  "
      ]
     },
     "execution_count": 4,
     "metadata": {},
     "output_type": "execute_result"
    }
   ],
   "source": [
    "df = df[df['A'] == 'Yes']\n",
    "df.head(2)"
   ]
  },
  {
   "cell_type": "code",
   "execution_count": 5,
   "id": "3eacdac6",
   "metadata": {
    "_kg_hide-input": true,
    "execution": {
     "iopub.execute_input": "2023-07-14T08:57:45.209395Z",
     "iopub.status.busy": "2023-07-14T08:57:45.208625Z",
     "iopub.status.idle": "2023-07-14T08:57:45.214472Z",
     "shell.execute_reply": "2023-07-14T08:57:45.213132Z"
    },
    "papermill": {
     "duration": 0.021491,
     "end_time": "2023-07-14T08:57:45.216650",
     "exception": false,
     "start_time": "2023-07-14T08:57:45.195159",
     "status": "completed"
    },
    "tags": []
   },
   "outputs": [
    {
     "name": "stdout",
     "output_type": "stream",
     "text": [
      "Number of rows that are directly related to AI Ethics: 103\n"
     ]
    }
   ],
   "source": [
    "print(\"Number of rows that are directly related to AI Ethics:\", len(df))"
   ]
  },
  {
   "cell_type": "markdown",
   "id": "793438c0",
   "metadata": {
    "papermill": {
     "duration": 0.01145,
     "end_time": "2023-07-14T08:57:45.240013",
     "exception": false,
     "start_time": "2023-07-14T08:57:45.228563",
     "status": "completed"
    },
    "tags": []
   },
   "source": [
    "The dataframe now only contains papers that are directly to AI Ethics. I will now provide a short analysis on this data."
   ]
  },
  {
   "cell_type": "markdown",
   "id": "3a6422fc",
   "metadata": {
    "papermill": {
     "duration": 0.011392,
     "end_time": "2023-07-14T08:57:45.263261",
     "exception": false,
     "start_time": "2023-07-14T08:57:45.251869",
     "status": "completed"
    },
    "tags": []
   },
   "source": [
    "# Short Analysis"
   ]
  },
  {
   "cell_type": "markdown",
   "id": "f320056c",
   "metadata": {
    "papermill": {
     "duration": 0.011621,
     "end_time": "2023-07-14T08:57:45.286625",
     "exception": false,
     "start_time": "2023-07-14T08:57:45.275004",
     "status": "completed"
    },
    "tags": []
   },
   "source": [
    "## General"
   ]
  },
  {
   "cell_type": "code",
   "execution_count": 6,
   "id": "5b93874e",
   "metadata": {
    "_kg_hide-input": true,
    "execution": {
     "iopub.execute_input": "2023-07-14T08:57:45.312284Z",
     "iopub.status.busy": "2023-07-14T08:57:45.311545Z",
     "iopub.status.idle": "2023-07-14T08:57:45.624887Z",
     "shell.execute_reply": "2023-07-14T08:57:45.623872Z"
    },
    "papermill": {
     "duration": 0.329024,
     "end_time": "2023-07-14T08:57:45.627448",
     "exception": false,
     "start_time": "2023-07-14T08:57:45.298424",
     "status": "completed"
    },
    "tags": []
   },
   "outputs": [
    {
     "data": {
      "image/png": "[encoded data removed]",
      "text/plain": [
       "<Figure size 640x480 with 1 Axes>"
      ]
     },
     "metadata": {},
     "output_type": "display_data"
    }
   ],
   "source": [
    "b_yes = (df[\"B\"]==\"Yes\").sum()\n",
    "c_yes = (df[\"C\"]==\"Yes\").sum()\n",
    "d_yes = (df[\"D\"]==\"Yes\").sum()\n",
    "count_yes = [b_yes, c_yes, d_yes]\n",
    "plt.bar([\"B\", \"C\", \"D\"], count_yes)\n",
    "plt.xlabel(\"Feature\")\n",
    "plt.ylabel(\"Count of Yes\")\n",
    "plt.title(\"Bar plot to show the count of Yes on features.\")\n",
    "\n",
    "for i, value in enumerate(count_yes):\n",
    "    plt.text(i, value, str(value), ha='center', va='bottom')\n",
    "\n",
    "plt.show()"
   ]
  },
  {
   "cell_type": "markdown",
   "id": "6cc4ed49",
   "metadata": {
    "papermill": {
     "duration": 0.012401,
     "end_time": "2023-07-14T08:57:45.655954",
     "exception": false,
     "start_time": "2023-07-14T08:57:45.643553",
     "status": "completed"
    },
    "tags": []
   },
   "source": [
    "It seems that out of 103 papers, **62 (60.19%)** of them suggests frameworks/guidelines, **44 (42.72%)** discusses the problems/challenges of implementing AI Ethics, and **57 (55.34%)** discusses awareness on AI Ethics.\n",
    "\n",
    "## What I got from this?\n",
    "Since AI Ethics has already been discussed for years, the problems and challenges are already been known and there will be multiple attempts to make a guideline or framework in order to implement AI Ethics in practice. \n",
    "\n",
    "One of the papers that provided a framework is [Automated Kantian Ethics: A Faithful Implementation](https://arxiv.org/pdf/2207.10152) where it suggests to base the ethical aspects of AI to Kantian philosophical tradition.\n",
    "\n",
    "But if AI Ethics has already been discussed for years, why are there still papers that discusses the awareness of importance of AI Ethics? The problems and challenges may have already been clear but, there are still blurry lines on what AI Ethics should cover and who should follow it. For example, this paper named [Beyond Fairness Metrics: Roadblocks and Challenges for Ethical AI in Practice](https://arxiv.org/pdf/2108.06217) says that ethical concerns such as conflicting business goals and systems integration practices are arising and not adequately adressed for the reason that some companies are considering their AI tools as blackbox."
   ]
  },
  {
   "cell_type": "markdown",
   "id": "99d8e654",
   "metadata": {
    "papermill": {
     "duration": 0.011998,
     "end_time": "2023-07-14T08:57:45.680206",
     "exception": false,
     "start_time": "2023-07-14T08:57:45.668208",
     "status": "completed"
    },
    "tags": []
   },
   "source": [
    "## Categories"
   ]
  },
  {
   "cell_type": "code",
   "execution_count": 7,
   "id": "9acf1c35",
   "metadata": {
    "_kg_hide-input": true,
    "execution": {
     "iopub.execute_input": "2023-07-14T08:57:45.706488Z",
     "iopub.status.busy": "2023-07-14T08:57:45.706105Z",
     "iopub.status.idle": "2023-07-14T08:57:46.028582Z",
     "shell.execute_reply": "2023-07-14T08:57:46.027478Z"
    },
    "papermill": {
     "duration": 0.338793,
     "end_time": "2023-07-14T08:57:46.031192",
     "exception": false,
     "start_time": "2023-07-14T08:57:45.692399",
     "status": "completed"
    },
    "tags": []
   },
   "outputs": [
    {
     "data": {
      "image/png": "[encoded data removed]",
      "text/plain": [
       "<Figure size 640x480 with 1 Axes>"
      ]
     },
     "metadata": {},
     "output_type": "display_data"
    }
   ],
   "source": [
    "csAI = len(df[df[\"Category\"].str.contains(\"cs.AI\")])\n",
    "csCY = len(df[df[\"Category\"].str.contains(\"cs.CY\")])\n",
    "csET = len(df[df[\"Category\"].str.contains(\"cs.ET\")])\n",
    "csLG = len(df[df[\"Category\"].str.contains(\"cs.LG\")])\n",
    "csOH = len(df[df[\"Category\"].str.contains(\"cs.OH\")])\n",
    "csRO = len(df[df[\"Category\"].str.contains(\"cs.RO\")])\n",
    "count_category = [csAI, csCY, csET, csLG, csOH, csRO]\n",
    "plt.bar([\"cs.AI\", \"cs.CY\", \"cs.ET\", \"cs.LG\", \"cs.OH\", \"cs.RO\"], count_category)\n",
    "plt.xlabel(\"Category\")\n",
    "plt.ylabel(\"Count of paper per Category\")\n",
    "plt.title(\"Bar plot to show the count of Papers made on each category.\")\n",
    "\n",
    "for i, value in enumerate(count_category):\n",
    "    plt.text(i, value, str(value), ha='center', va='bottom')\n",
    "\n",
    "plt.show()"
   ]
  },
  {
   "cell_type": "markdown",
   "id": "8214f47c",
   "metadata": {
    "papermill": {
     "duration": 0.012291,
     "end_time": "2023-07-14T08:57:46.056469",
     "exception": false,
     "start_time": "2023-07-14T08:57:46.044178",
     "status": "completed"
    },
    "tags": []
   },
   "source": [
    "A quick rundown on what each category represents: *Artificial Intelligence(cs.AI)*, *Computers and Society(cs.CY)*, *Emerging Technologies(cs.ET)*, *Machine Learning(cs.LG)*, *Other Computer Science(cs.OH)*,  and *Robotics(cs.RO)*.\n",
    "\n",
    "*Emerging Technologies* and *Other Computer Science* categories didn't write **(0.00%)** anything at all about AI Ethics.\n",
    "\n",
    "*Machine Learning* and *Robotics* categories wrote little papers about AI Ethics which are **16 (15.53%)** and **5 (4.85%)** papers respectively.\n",
    "\n",
    "*Artificial Intelligence* and *Computers and Society* categories contains the most papers which are **62 (60.19%)** and **84 (81.55%)** respectively.\n",
    "\n",
    "## What I got from this?\n",
    "For the *Emerging Technologies* category, it's a little surprising for me because AI Ethics is a new field of study in the tech world. So I expected a few papers to be written about AI Ethics in this category.\n",
    "\n",
    "*Artificial Intelligence* and *Computers and Society* categories make sense because these two categories are directly affected by AI Ethics. In *Artificial Intelligence*, discussions about how to implement such systems are important. Just like in this paper named [How to design an AI ethics board](https://arxiv.org/pdf/2304.07249) where it discusses that organizations should take measures to reduce the associated risks of AI. For *Computer and Society*, discussions about how AI systems can affect the society as a whole are also important, that's why many papers are written under this category. This paper named [Big Tech Companies Impact on Research at the Faculty of Information Technology and Electrical Engineering](https://arxiv.org/pdf/2205.01039) states that big tech companies should ensure that they follow AI ethics to promote public trust."
   ]
  },
  {
   "cell_type": "markdown",
   "id": "073a2833",
   "metadata": {
    "papermill": {
     "duration": 0.012414,
     "end_time": "2023-07-14T08:57:46.081520",
     "exception": false,
     "start_time": "2023-07-14T08:57:46.069106",
     "status": "completed"
    },
    "tags": []
   },
   "source": [
    "## Year\n",
    "Since there is no year on the dataset that I've made, I need to extract it from the given dataset."
   ]
  },
  {
   "cell_type": "code",
   "execution_count": 8,
   "id": "252dfe97",
   "metadata": {
    "_kg_hide-input": true,
    "execution": {
     "iopub.execute_input": "2023-07-14T08:57:46.108635Z",
     "iopub.status.busy": "2023-07-14T08:57:46.108256Z",
     "iopub.status.idle": "2023-07-14T09:00:40.115347Z",
     "shell.execute_reply": "2023-07-14T09:00:40.114208Z"
    },
    "papermill": {
     "duration": 174.036183,
     "end_time": "2023-07-14T09:00:40.130359",
     "exception": false,
     "start_time": "2023-07-14T08:57:46.094176",
     "status": "completed"
    },
    "tags": []
   },
   "outputs": [
    {
     "data": {
      "text/html": [
       "<div>\n",
       "<style scoped>\n",
       "    .dataframe tbody tr th:only-of-type {\n",
       "        vertical-align: middle;\n",
       "    }\n",
       "\n",
       "    .dataframe tbody tr th {\n",
       "        vertical-align: top;\n",
       "    }\n",
       "\n",
       "    .dataframe thead th {\n",
       "        text-align: right;\n",
       "    }\n",
       "</style>\n",
       "<table border=\"1\" class=\"dataframe\">\n",
       "  <thead>\n",
       "    <tr style=\"text-align: right;\">\n",
       "      <th></th>\n",
       "      <th>Unnamed: 0</th>\n",
       "      <th>ID</th>\n",
       "      <th>Link</th>\n",
       "      <th>Title</th>\n",
       "      <th>Category</th>\n",
       "      <th>Abstract</th>\n",
       "      <th>A</th>\n",
       "      <th>B</th>\n",
       "      <th>C</th>\n",
       "      <th>D</th>\n",
       "      <th>Year</th>\n",
       "    </tr>\n",
       "  </thead>\n",
       "  <tbody>\n",
       "    <tr>\n",
       "      <th>1</th>\n",
       "      <td>1</td>\n",
       "      <td>2101.05957</td>\n",
       "      <td>https://arxiv.org/pdf/2101.05957</td>\n",
       "      <td>Descriptive AI Ethics: Collecting and Understa...</td>\n",
       "      <td>cs.CY cs.AI</td>\n",
       "      <td>There is a growing need for data-driven rese...</td>\n",
       "      <td>Yes</td>\n",
       "      <td>Yes</td>\n",
       "      <td>No</td>\n",
       "      <td>No</td>\n",
       "      <td>2021</td>\n",
       "    </tr>\n",
       "    <tr>\n",
       "      <th>2</th>\n",
       "      <td>2</td>\n",
       "      <td>2101.06060</td>\n",
       "      <td>https://arxiv.org/pdf/2101.06060</td>\n",
       "      <td>The Challenge of Value Alignment: from Fairer ...</td>\n",
       "      <td>cs.CY</td>\n",
       "      <td>This paper addresses the question of how to ...</td>\n",
       "      <td>Yes</td>\n",
       "      <td>Yes</td>\n",
       "      <td>Yes</td>\n",
       "      <td>Yes</td>\n",
       "      <td>2021</td>\n",
       "    </tr>\n",
       "  </tbody>\n",
       "</table>\n",
       "</div>"
      ],
      "text/plain": [
       "   Unnamed: 0          ID                              Link  \\\n",
       "1           1  2101.05957  https://arxiv.org/pdf/2101.05957   \n",
       "2           2  2101.06060  https://arxiv.org/pdf/2101.06060   \n",
       "\n",
       "                                               Title     Category  \\\n",
       "1  Descriptive AI Ethics: Collecting and Understa...  cs.CY cs.AI   \n",
       "2  The Challenge of Value Alignment: from Fairer ...        cs.CY   \n",
       "\n",
       "                                            Abstract    A    B    C    D  Year  \n",
       "1    There is a growing need for data-driven rese...  Yes  Yes   No   No  2021  \n",
       "2    This paper addresses the question of how to ...  Yes  Yes  Yes  Yes  2021  "
      ]
     },
     "execution_count": 8,
     "metadata": {},
     "output_type": "execute_result"
    }
   ],
   "source": [
    "import json\n",
    "# import JSON data\n",
    "dict_arxiv = []\n",
    "for line in open(\"/kaggle/input/2023-kaggle-ai-report/arxiv_metadata_20230510.json\", 'r'):\n",
    "    dict_arxiv.append(json.loads(line))\n",
    "    \n",
    "df = df[df['ID'] != 2305.09573] # this paper has been removed because it does not exist on the arxiv dataset\n",
    "\n",
    "years = []\n",
    "for ind in range(len(dict_arxiv)):\n",
    "    if dict_arxiv[ind][\"title\"] in list(df[\"Title\"]):\n",
    "        year = dict_arxiv[ind][\"versions\"][0][\"created\"].split()[3]\n",
    "        years.append(year)\n",
    "              \n",
    "df[\"Year\"] = years\n",
    "df.head(2)"
   ]
  },
  {
   "cell_type": "markdown",
   "id": "f5591808",
   "metadata": {
    "papermill": {
     "duration": 0.012665,
     "end_time": "2023-07-14T09:00:40.156030",
     "exception": false,
     "start_time": "2023-07-14T09:00:40.143365",
     "status": "completed"
    },
    "tags": []
   },
   "source": [
    "Now that years are also included in **my** dataset, I will now provide a short analysis about years.\n",
    "\n",
    "## All Years"
   ]
  },
  {
   "cell_type": "code",
   "execution_count": 9,
   "id": "7829c5ba",
   "metadata": {
    "_kg_hide-input": true,
    "execution": {
     "iopub.execute_input": "2023-07-14T09:00:40.184339Z",
     "iopub.status.busy": "2023-07-14T09:00:40.183855Z",
     "iopub.status.idle": "2023-07-14T09:00:40.445843Z",
     "shell.execute_reply": "2023-07-14T09:00:40.444719Z"
    },
    "papermill": {
     "duration": 0.279403,
     "end_time": "2023-07-14T09:00:40.448392",
     "exception": false,
     "start_time": "2023-07-14T09:00:40.168989",
     "status": "completed"
    },
    "tags": []
   },
   "outputs": [
    {
     "data": {
      "image/png": "[encoded data removed]",
      "text/plain": [
       "<Figure size 640x480 with 1 Axes>"
      ]
     },
     "metadata": {},
     "output_type": "display_data"
    }
   ],
   "source": [
    "y21 = df[df[\"Year\"].str.contains(\"2021\")]\n",
    "y22 = df[df[\"Year\"].str.contains(\"2022\")]\n",
    "y23 = df[df[\"Year\"].str.contains(\"2023\")]\n",
    "count_year = [len(y21), len(y22), len(y23)]\n",
    "plt.bar([\"2021\", \"2022\", \"2023\"], count_year)\n",
    "plt.xlabel(\"Year\")\n",
    "plt.ylabel(\"Count of paper per Year\")\n",
    "plt.title(\"Bar plot to show the count of Papers made on each year.\")\n",
    "\n",
    "for i, value in enumerate(count_year):\n",
    "    plt.text(i, value, str(value), ha='center', va='bottom')\n",
    "\n",
    "plt.show()"
   ]
  },
  {
   "cell_type": "markdown",
   "id": "87048849",
   "metadata": {
    "papermill": {
     "duration": 0.013315,
     "end_time": "2023-07-14T09:00:40.475347",
     "exception": false,
     "start_time": "2023-07-14T09:00:40.462032",
     "status": "completed"
    },
    "tags": []
   },
   "source": [
    "## What I got from this?\n",
    "Year **2021** and **2022** are the years which has the most written papers about AI ethics. Having **44 (43.14%)** and **43 (42.16%)** respectively. Year **2023** having only **15 (14.71%)** is not that surprising for the reason that we are only halfway of the year. These shows that many scholars are taking AI ethics seriously.\n",
    "\n",
    "## Year 2021"
   ]
  },
  {
   "cell_type": "code",
   "execution_count": 10,
   "id": "fad9432c",
   "metadata": {
    "_kg_hide-input": true,
    "execution": {
     "iopub.execute_input": "2023-07-14T09:00:40.504257Z",
     "iopub.status.busy": "2023-07-14T09:00:40.503863Z",
     "iopub.status.idle": "2023-07-14T09:00:40.803900Z",
     "shell.execute_reply": "2023-07-14T09:00:40.802755Z"
    },
    "papermill": {
     "duration": 0.31768,
     "end_time": "2023-07-14T09:00:40.806539",
     "exception": false,
     "start_time": "2023-07-14T09:00:40.488859",
     "status": "completed"
    },
    "tags": []
   },
   "outputs": [
    {
     "data": {
      "image/png": "[encoded data removed]",
      "text/plain": [
       "<Figure size 640x480 with 1 Axes>"
      ]
     },
     "metadata": {},
     "output_type": "display_data"
    }
   ],
   "source": [
    "def yc(data, letter, decision):\n",
    "    return len(data[data[letter].str.contains(decision)])\n",
    "\n",
    "labels = [\"B\", \"C\", \"D\"]\n",
    "y21_y = [yc(y21, \"B\", \"Yes\"), yc(y21, \"C\", \"Yes\"), yc(y21, \"D\", \"Yes\")]\n",
    "y21_n = [yc(y21, \"B\", \"No\"), yc(y21, \"C\", \"No\"), yc(y21, \"D\", \"No\")]\n",
    "width = 0.3\n",
    "plt.bar(np.arange(len(y21_y)), y21_y, width=width, label=\"Yes\")\n",
    "plt.bar(np.arange(len(y21_n))+ width, y21_n, width=width, label=\"No\")\n",
    "plt.legend()\n",
    "plt.xlabel(\"2021\")\n",
    "plt.ylabel(\"Count of paper\")\n",
    "plt.title(\"Bar plot to show the count of Papers made for columns B, C, and D. (YEAR 2021)\")\n",
    "plt.xticks(range(len(y21_y)), labels)\n",
    "plt.show()"
   ]
  },
  {
   "cell_type": "markdown",
   "id": "2556f7aa",
   "metadata": {
    "papermill": {
     "duration": 0.01382,
     "end_time": "2023-07-14T09:00:40.834452",
     "exception": false,
     "start_time": "2023-07-14T09:00:40.820632",
     "status": "completed"
    },
    "tags": []
   },
   "source": [
    "I want to have a quick rundown on what each letter means. <br>\n",
    "**B** means that the paper provides an ethical guideline or framework. <br>\n",
    "**C** means that the paper discusses the problems or challenges of implementing AI ethics in practice. <br>\n",
    "**D** means that the paper discusses about having an awareness about AI ethics.\n",
    "\n",
    "## What I got from this?\n",
    "From the year 2021, it seems that there is a balanced set of topics for all the papers. Around **60%** of the papers are related to each topic.\n",
    "\n",
    "## Year 2022"
   ]
  },
  {
   "cell_type": "code",
   "execution_count": 11,
   "id": "26cb8e76",
   "metadata": {
    "_kg_hide-input": true,
    "execution": {
     "iopub.execute_input": "2023-07-14T09:00:40.865455Z",
     "iopub.status.busy": "2023-07-14T09:00:40.864750Z",
     "iopub.status.idle": "2023-07-14T09:00:41.164978Z",
     "shell.execute_reply": "2023-07-14T09:00:41.163844Z"
    },
    "papermill": {
     "duration": 0.318858,
     "end_time": "2023-07-14T09:00:41.167513",
     "exception": false,
     "start_time": "2023-07-14T09:00:40.848655",
     "status": "completed"
    },
    "tags": []
   },
   "outputs": [
    {
     "data": {
      "image/png": "[encoded data removed]",
      "text/plain": [
       "<Figure size 640x480 with 1 Axes>"
      ]
     },
     "metadata": {},
     "output_type": "display_data"
    }
   ],
   "source": [
    "y22_y = [yc(y22, \"B\", \"Yes\"), yc(y22, \"C\", \"Yes\"), yc(y22, \"D\", \"Yes\")]\n",
    "y22_n = [yc(y22, \"B\", \"No\"), yc(y22, \"C\", \"No\"), yc(y22, \"D\", \"No\")]\n",
    "width = 0.3\n",
    "plt.bar(np.arange(len(y22_y)), y22_y, width=width, label=\"Yes\")\n",
    "plt.bar(np.arange(len(y22_n))+ width, y22_n, width=width, label=\"No\")\n",
    "plt.legend()\n",
    "plt.xlabel(\"2022\")\n",
    "plt.ylabel(\"Count of paper\")\n",
    "plt.title(\"Bar plot to show the count of Papers made for columns B, C, and D. (YEAR 2022)\")\n",
    "plt.xticks(range(len(y22_y)), labels)\n",
    "plt.show()"
   ]
  },
  {
   "cell_type": "markdown",
   "id": "2b842716",
   "metadata": {
    "papermill": {
     "duration": 0.014192,
     "end_time": "2023-07-14T09:00:41.196069",
     "exception": false,
     "start_time": "2023-07-14T09:00:41.181877",
     "status": "completed"
    },
    "tags": []
   },
   "source": [
    "## What I got from this?\n",
    "The year 2022 is not balanced on each topic just like the year 2021. More papers are written about **suggesting ethical guidelines or frameworks**. On the other hand, less paper are written about **tackling the issues of AI ethics**. For the topic of **spreading awareness**, it seems that they are almost balanced on this year.\n",
    "\n",
    "Additionally, based on PART 1:2022,there is an article there from Forbes that says 2023 is the year of AI ethics legislation. Meaning, having many proposed papers about suggeting ethical guidelines in the year 2022 supports that article. \n",
    "\n",
    "## Year 2023"
   ]
  },
  {
   "cell_type": "code",
   "execution_count": 12,
   "id": "7880c05a",
   "metadata": {
    "_kg_hide-input": true,
    "execution": {
     "iopub.execute_input": "2023-07-14T09:00:41.227540Z",
     "iopub.status.busy": "2023-07-14T09:00:41.226733Z",
     "iopub.status.idle": "2023-07-14T09:00:41.523838Z",
     "shell.execute_reply": "2023-07-14T09:00:41.522736Z"
    },
    "papermill": {
     "duration": 0.315875,
     "end_time": "2023-07-14T09:00:41.526349",
     "exception": false,
     "start_time": "2023-07-14T09:00:41.210474",
     "status": "completed"
    },
    "tags": []
   },
   "outputs": [
    {
     "data": {
      "image/png": "[encoded data removed]",
      "text/plain": [
       "<Figure size 640x480 with 1 Axes>"
      ]
     },
     "metadata": {},
     "output_type": "display_data"
    }
   ],
   "source": [
    "y23_y = [yc(y23, \"B\", \"Yes\"), yc(y23, \"C\", \"Yes\"), yc(y23, \"D\", \"Yes\")]\n",
    "y23_n = [yc(y23, \"B\", \"No\"), yc(y23, \"C\", \"No\"), yc(y23, \"D\", \"No\")]\n",
    "width = 0.3\n",
    "plt.bar(np.arange(len(y23_y)), y23_y, width=width, label=\"Yes\")\n",
    "plt.bar(np.arange(len(y23_n))+ width, y23_n, width=width, label=\"No\")\n",
    "plt.legend()\n",
    "plt.xlabel(\"2023\")\n",
    "plt.ylabel(\"Count of paper\")\n",
    "plt.title(\"Bar plot to show the count of Papers made for columns B, C, and D. (YEAR 2023)\")\n",
    "plt.xticks(range(len(y23_y)), labels)\n",
    "plt.show()"
   ]
  },
  {
   "cell_type": "markdown",
   "id": "aa49a4dc",
   "metadata": {
    "papermill": {
     "duration": 0.015235,
     "end_time": "2023-07-14T09:00:41.556433",
     "exception": false,
     "start_time": "2023-07-14T09:00:41.541198",
     "status": "completed"
    },
    "tags": []
   },
   "source": [
    "## What I got from this?\n",
    "This year got me confused but since the year is not yet finished, I cannot make a solid assumption on this one. Most of the papers written are about topic **D** which is about awareness. There are only a few topics written about topic **B** and **C**. For topic B, I think the reason that not many papers are written on this one is because most of ethical guidelines are now being applied into the industry, just like **IEEE GET Program**.\n",
    "\n",
    "# SUMMARY OF PART 2\n",
    "Over the past two yeas, multiple papers are made and published with regards to AI ethics. From making awareness about the importance and challenges of AI ethcis up to suggesting ethical guidelines, these series of papers can serve as a basis of what's the current state of AI ethics and what can be improved. 2021 is the year where multiple papers are being made accross the different categories. 2022 is the year where most of the papers suggested guideline. And lastly, most of the papers are written for raising awareness about AI ethics on half of 2023."
   ]
  },
  {
   "cell_type": "markdown",
   "id": "a71b3fb5",
   "metadata": {
    "papermill": {
     "duration": 0.015264,
     "end_time": "2023-07-14T09:00:41.586751",
     "exception": false,
     "start_time": "2023-07-14T09:00:41.571487",
     "status": "completed"
    },
    "tags": []
   },
   "source": [
    "# PART 3: MY OPINION\n",
    "Now this part is where I discuss my own learnings about the current state of AI Ethics. Also, the current challenges and the reasons I think they are considered a challenge.\n",
    "\n",
    "# What is AI Ethics?\n",
    "\n",
    "Artificial Intelligence, or AI for short, has been conceptualized since the 1950s. The purpose of AI is to do things that a human can do but in a more efficient and accurate way. Another one is to make decisions based on certain parameters or environments. \n",
    "\n",
    "Before we directly discuss on what *AI Ethics* is, first, let’s briefly discuss *Ethics* in general. Ethics is a branch of philosophy that always ask this question: “What is right? And what is wrong? Which choice should I make?” Ethics is our guide that defines conditions of a good choice or to figure out which of all the available options is the best one. But ethics does not stand on its own, it is mainly composed of three things: 1) Values, the things we hold to be good and therefore care about deeply. Some examples are family, equality, and justice. 2) Principles, which determine the acceptable ways of getting what we value. This is where we draw lines and make sure not to cross them. And lastly 3) Purpose, the reason for determining which principles and values to take on certain situations. But, even though there is a clear definition on what ethics is and what it is composed of, there is still no single set of ethical principles that everyone agrees on. To cope up with this, there are *some* general principles of ethics that are widely accepted such as “don’t do harm to others”, “be responsible in our actions”, and more. \n",
    "\n",
    "So now we have briefly discussed on what *Ethics* is, how does this relate to AI Ethics? AI Ethics is a relatively new field that is concerned on how ethics can be combined with AI. Incorporating Ethics with AI means applying the generally accepted ethical principles and the three main things it is composed of. As AI develops, it is becoming more important to consider the ethical implications of how it is made and used.\n",
    "\n",
    "# Some Existing Ethical Frameworks or Guidelines\n",
    "\n",
    "AI Ethics aims to ensure that AI is developed and used in a way that focuses to be beneficial to the people that it ought to serve and makes sure not to harm them in the process. Then, in order to achieve this, existing frameworks or guidelines have been implemented or is under review.\n",
    "\n",
    "### Kaggle’s Human-Centered Design for AI\n",
    "\n",
    "From Kaggle’s **Intro to AI Ethics** course, there is something called Human-Centered Design for AI. Human-Centered Design, or HCD for short, is an approach to designing AI systems that serves people’s needs and involves people in every step of the design process. This will depend on the industry, resources, organization, and the people that the AI seeks to serve. There are six steps in HCD for AI.\n",
    "\n",
    "The FIRST step is **“Understand people’s needs to define the problem”** where the main point is to understand the pain points in people’s journeys. This can be done by observation, interviews, feedbacks, and focus groups.\n",
    "\n",
    "SECOND step is **“Ask if AI adds value to any potential solution”**. There are some questions that needed to be address first before making the AI system. If there is a “no” to any of those questions, then maybe an AI solution may not be necessary. These are the questions:\n",
    "\n",
    "- Would people generally agree that what you are trying to achieve is a good outcome?\n",
    "- Would non-AI systems - such as rule-based solutions, which are easier to create, audit, and maintain - be significantly less effective than an AI system?\n",
    "- Is the task you are using AI for one that people would find boring, repetitive, or otherwise difficult to concentrate on?\n",
    "- Have AI solutions proven to be better than other solutions for similar use cases in the past?\n",
    "\n",
    "The THIRD step is **“Consider the potential harms that the AI system could cause”**. Weigh the benefits of using AI against the potential harms throughout the design process.\n",
    "\n",
    "Step FOUR is **“Prototype, starting with non-AI solutions”**. Build first a non-AI prototype to see how people interact with it.\n",
    "\n",
    "Step FIVE is **“Provide ways for people to challenge the system”**. The possible challenges that the people who use the system are the following:\n",
    "\n",
    "- Requesting an explanation of how the AI arrived at its decision or answer\n",
    "- Requesting a change in the information input\n",
    "- Turning off certain features\n",
    "- Reaching out to the product team on social media\n",
    "- Taking some other action on the AI\n",
    "\n",
    "The LAST and SIXTH step is **“Build safety measures”**. This is important because a safety measure protects users against harm. The kind of safety measure your system needs to depend on its purpose and on the types of harms it could cause. This can be done by reviewing the list of safety measure built into similar non-AI alternatives.\n",
    "\n",
    "These steps ensure that the AI system being built is aligned with what the people involved want and need.\n",
    "\n",
    "### Asilomar AI Principles\n",
    "\n",
    "In 2017, the **Asilomar Conference** established guidelines called the **Asilomar AI Principles**. These principles promote responsible AI development, focusing on safety, security, and individual rights.\n",
    "\n",
    "More than **5,000 individuals** signed these principles, including **844 AI and robotics researchers**. Among the prominent signatories include are **Elon Musk** and **Stephen Hawking**.\n",
    "\n",
    "These principles recommend that AI should be developed where it reduces the risks of unintentional harm to humans. Additionally, AI should be developed where it benefits ALL members of society. Furthermore, the principles suggest to make policies that mitigate the negative effects of AI.\n",
    "\n",
    "Another aspect of the principles is to promote transparency and accountability. Since AI systems are considered as black boxes, meaning that their decision-making process are difficult to understand, the principles call for AI systems to be designed in a way that is transparent and explainable.\n",
    "\n",
    "**SOME** of the Key principles of the Asilomar AI Principles are: <br>\n",
    "**Research Goal:** AI development should benefit all members of society and environment. <br>\n",
    "**Safety:** AI should be designed to minimize or avoid the risk of causing unintentional harm to humans. <br>\n",
    "**Transparency:** AI should be developed where its decisions can be easily understood and explained. <br>\n",
    "**Privacy:** AI should be designed to protect the data it uses. <br>\n",
    "**Fairness:** AI should be designed where it eliminates discrimination and bias. <br>\n",
    "**Human Control:** Humans should be able to control AI at any given time or condition. <br>\n",
    "**Responsibility:** The ones who develop AI should be held accountable for their impact in the society.\n",
    "\n",
    "### AI Ethics Lab’s TOOLBOX: Dynamics of AI Principles\n",
    "\n",
    "This one is **a collection of all principles** all over the world. This toolbox includes the following:\n",
    "\n",
    "1. Map. Helps people to visualize where the principles are from and to see them in a summarized manner.\n",
    "2. The Box. This is a tool to help people evaluate the ethical strengths and weaknesses of a particular AI technology.\n",
    "3. Case studies. These are a set of case studies to see how the AI principles can be applied in practice.\n",
    "\n",
    "To see this toolbox firsthand, visit this website: https://aiethicslab.com/big-picture/\n",
    "\n",
    "# Why is AI Ethics hard to incorporate?\n",
    "\n",
    "While there may be numerous existing frameworks and guidelines, their implementation often encounters several hurdles. This may not be an extensive list of those hurdles but below, I will discuss some of it.\n",
    "\n",
    "### Bias is Hard to Get Rid Off\n",
    "\n",
    "Bias will always be there. For us humans, we don’t have enough cognitive bandwidth to make every decision or assumption from scratch so we must make generalizations, or bias, as a starting point so that we can make the “best” decision as possible. If we cannot eliminate the bias on us, then how can we expect to eliminate the bias that is present on the AI if the data that the AI trains on came from us? **Every time we train an AI, we unintentionally transfer our biases to them**.\n",
    "\n",
    "### Values, Principles, and Purpose\n",
    "\n",
    "I have defined earlier what these things are so now, I’ll discuss on why these things make the implementation of AI Ethics hard. \n",
    "\n",
    "**Values such as justice, family, and equality.** Having values shape our ethical framework however, different people may prioritize or have a different set of values. This leads to disagreements and challenges when defining what is right or what decision to make in certain situations. This diversity of values makes it difficult to implement a AI Ethics.\n",
    "\n",
    "**Principles serves as the means on how we achieve the values we hold.** In AI ethics, determining the acceptable ways of not crossing the line due to the fact that we also have different principles. \n",
    "\n",
    "**Purpose helps us choose on which principles and values we should hold.** Determining a unified purpose for AI is challenging due to the same fact that we humans have different purposes.\n",
    "\n",
    "### Moral Uncertainty\n",
    "\n",
    "Moral uncertainty refers to being indecisive on what is morally right or wrong in a certain situation. This happens when there are **multiple moral choices to consider in making a decision**. \n",
    "\n",
    "So, why is this related to AI? Since there are multiple morals to consider, it is difficult to implement a universally accepted ethical guideline that can be applied to all situations that AI may encounter. For instance, lets say there is an ailment that only an AI System can cure. But the patient does not want to be treated that way. If the AI “decided” to respect the patient’s conscious decision to not be treated, then it will defy one of the key principles of the *Hippocratic Oath* which is to prioritize the well-being and health of patients above all else. On the other hand, if the AI “decided” to treat the patient, it will then violate the patient’s informed consent and privacy (for the reason that the patient’s data may be used for the treatment).\n",
    "\n",
    "### Moral Relativism\n",
    "\n",
    "This one is a philosophical perspective that state ethical principles and judgements are not absolute or universally applicable. In addition, this states that ethics depend on cultural, societal, and individual views.\n",
    "\n",
    "If ethics is relative, then **how can AI know which ethical guidelines are appropriate to follow?** Additionally, who will decide on which ethical guideline is applicable or to prioritize for certain situations?\n",
    "\n",
    "### Regulatory Challenge\n",
    "\n",
    "Regulatory challenges do not only cover regulations; they also covers the problems with regulators and how regulations are implemented.\n",
    "\n",
    "**Making AI regulations is not proactive.** Regulations are often delayed or lag behind innovations. One example of this is the fair lending laws in the USA are nearly 50 years old but are only starting to be modernized now in order to deal AI systems in practice. Moreover, the current pace of making regulations is out of sync with AI development. Top AI conference like NeurIPS reported 50% annual increase in their submissions, which the regulations of AI cannot keep up with. Additionally, technological regulations rely heavily on societal values. This results for regulations to be always in a state of reform as perspectives and issues change over time.\n",
    "\n",
    "**AI is everywhere.** AI systems are used in many industries and fields such as healthcare, finance, and employment. The problem is that they often have their own regulations that are only applicable to them, and the AI systems made for specific industries only adhere to the AI regulations relevant to those industries. There is no single regulatory body to monitor and responsible for AI usage as a whole. This results to self-regulation, which carries an intrinsic risk of conflict of interest.\n",
    "\n",
    "**Accountability for AI is hard.** AI often operate using complex algorithms and processes that are not easy to understand. Therefore, it is difficult to trace the decisions made by AI systems back to the specific actions or individuals. Additionally, since it is difficult to trace AI’s decision-making process, this may result to delays in action on what to do with the AI and it may continue causing harm for the people who are affected.\n",
    "\n",
    "### Business Challenge\n",
    "\n",
    "In the business world, having a secret tool to be on edge with competitors is important. These secret tools make sure that the business or company will continue to grow and earn. With regards to using AI, companies treat them as the same. **Keeping the inner workings of the AI systems a secret and share only limited information about the limitations and capabilities of their technology**. This is for the reason to maintain the competitive edge and protect their intellectual property. The problem with this is that businesses or companies **violate the existing guidelines or frameworks with regards to transparency and accountability**.\n",
    "\n",
    "# SUMMARY OF PART 3\n",
    "Some courses and guidelines have been made in order to address the issue of AI ethics where it is hard to implement in practice. The reason that it is hard to implement is that there are multiple challenges such as challenges in business, regulations, and philosophical aspects."
   ]
  },
  {
   "cell_type": "markdown",
   "id": "fff372aa",
   "metadata": {
    "papermill": {
     "duration": 0.01472,
     "end_time": "2023-07-14T09:00:41.616610",
     "exception": false,
     "start_time": "2023-07-14T09:00:41.601890",
     "status": "completed"
    },
    "tags": []
   },
   "source": [
    "# CONCLUSION\n",
    "\n",
    "As AI continues to advance, integrating ethics into it becomes increasingly crucial. Establishing ethical frameworks and guidelines is challenging, but experts are working to ensure AI aligns with our values. Implementation and adherence to these guidelines are essential. AI ethics requires collaboration among researchers, industry professionals, policymakers, and the public. We must prioritize ethics to ensure AI benefits humanity while upholding our shared values and also keeping ourselves accountable to it."
   ]
  },
  {
   "cell_type": "markdown",
   "id": "b40a2ee4",
   "metadata": {
    "papermill": {
     "duration": 0.014747,
     "end_time": "2023-07-14T09:00:41.647170",
     "exception": false,
     "start_time": "2023-07-14T09:00:41.632423",
     "status": "completed"
    },
    "tags": []
   },
   "source": [
    "# REFERENCES\n",
    "\n",
    "## Scholarly Papers\n",
    "\n",
    "The scholarly papers came from [arXiv](https://www.kaggle.com/datasets/Cornell-University/arxiv) which is provided by Kaggle.\n",
    "\n",
    "In order to extract these articles, used this [notebook](https://www.kaggle.com/code/leonidkulyk/kaggle-ai-report-topic-selection) for reference.\n",
    "\n",
    "**These are the specific papers where I based my worked.**\n",
    "1. [Descriptive AI Ethics: Collecting and Understanding the Public Opinion](https://arxiv.org/pdf/2101.05957)\n",
    "2. [The Challenge of Value Alignment: from Fairer Algorithms to AI Safety](https://arxiv.org/pdf/2101.06060)\n",
    "3. [Beyond Fairness Metrics: Roadblocks and Challenges for Ethical AI in Practice](https://arxiv.org/pdf/2108.06217)\n",
    "4. [The Myth of Complete AI-Fairness](https://arxiv.org/pdf/2104.12544)\n",
    "5. [Big Tech Companies Impact on Research at the Faculty of Information Technology and Electrical Engineering](https://arxiv.org/pdf/2205.01039)\n",
    "6. [Automated Kantian Ethics: A Faithful Implementation](https://arxiv.org/pdf/2207.10152)\n",
    "7. [How to design an AI ethics board](https://arxiv.org/pdf/2304.07249)\n",
    "\n",
    "## Articles\n",
    "1. [Ethical Challenges of AI Applications](https://aiindex.stanford.edu/wp-content/uploads/2021/03/2021-AI-Index-Report-_Chapter-5.pdf)\n",
    "2. [Exploring the Asilomar AI Principles: A Guide to Ensuring Safe and Beneficial AI Development](https://www.techopedia.com/exploring-the-asilomar-ai-principles-a-guide-to-ensuring-safe-and-beneficial-ai-development)\n",
    "3. [WHO issues first global report on Artificial Intelligence (AI) in health and six guiding principles for its design and use](https://www.who.int/news/item/28-06-2021-who-issues-first-global-report-on-ai-in-health-and-six-guiding-principles-for-its-design-and-use)\n",
    "4. [15 AI Ethics Leaders Showing The World The Way Of The Future](https://www.forbes.com/sites/markminevich/2021/08/09/15-ai-ethics-leaders-showing-the-world-the-way-of-the-future/?sh=40c9eac16bdf)\n",
    "5. [193 countries adopt first-ever global agreement on the Ethics of Artificial Intelligence](https://news.un.org/en/story/2021/11/1106612)\n",
    "6. [Remarks of Dr. Alondra Nelson at the White House Gathering on Technology, Civil Rights, and Democratic Values](https://www.whitehouse.gov/ostp/news-updates/2022/10/04/remarks-of-dr-alondra-nelson-at-the-white-house-gathering-on-technology-civil-rights-and-democratic-values/)\n",
    "7. [2023 Will Be The Year Of AI Ethics Legislation Acceleration](https://www.forbes.com/sites/cindygordon/2022/12/28/2023-will-be-the-year-of-ai-ethics-legislation-acceleration/?sh=3d0c833be855)\n",
    "8. [IEEE Introduces New Program for Free Access to AI Ethics and Governance Standards](https://standards.ieee.org/news/get-program-ai-ethics/)\n",
    "9. [The Vatican Releases Its Own AI Ethics Handbook](https://gizmodo.com/pope-francis-vatican-releases-ai-ethics-1850583076)\n",
    "\n",
    "## Videos\n",
    "1. [What is Ethics](https://www.youtube.com/watch?v=u399XmkjeXo)\n",
    "2. [Artificial intelligence in healthcare: opportunities and challenges | Navid Toosi Saidy | TEDxQUT](https://www.youtube.com/watch?v=uvqDTbusdUU)\n",
    "3. [Ethical Decision Making](https://www.youtube.com/watch?v=n0uwTBrgqxI&t=15s)\n",
    "4. [Purpose, Values, Principles - An Ethics Framework](https://www.youtube.com/watch?v=KLvWMoFUboo)"
   ]
  },
  {
   "cell_type": "markdown",
   "id": "cea9a4e9",
   "metadata": {
    "papermill": {
     "duration": 0.0152,
     "end_time": "2023-07-14T09:00:41.677303",
     "exception": false,
     "start_time": "2023-07-14T09:00:41.662103",
     "status": "completed"
    },
    "tags": []
   },
   "source": [
    "# AI TOOLS USED\n",
    "* **ChatGPT** - grammar checker, outline maker, summarizing and checking the contents of abstracts\n",
    "* **Bard** - grammar checker, outline maker, brainstorming of subtopics, summarizing content online"
   ]
  },
  {
   "cell_type": "markdown",
   "id": "2e1e5834",
   "metadata": {
    "papermill": {
     "duration": 0.014719,
     "end_time": "2023-07-14T09:00:41.707055",
     "exception": false,
     "start_time": "2023-07-14T09:00:41.692336",
     "status": "completed"
    },
    "tags": []
   },
   "source": [
    "# SUBMISSION"
   ]
  },
  {
   "cell_type": "code",
   "execution_count": 13,
   "id": "e94e34df",
   "metadata": {
    "execution": {
     "iopub.execute_input": "2023-07-14T09:00:41.739452Z",
     "iopub.status.busy": "2023-07-14T09:00:41.738696Z",
     "iopub.status.idle": "2023-07-14T09:00:41.751925Z",
     "shell.execute_reply": "2023-07-14T09:00:41.750901Z"
    },
    "papermill": {
     "duration": 0.032401,
     "end_time": "2023-07-14T09:00:41.754497",
     "exception": false,
     "start_time": "2023-07-14T09:00:41.722096",
     "status": "completed"
    },
    "tags": []
   },
   "outputs": [
    {
     "data": {
      "text/html": [
       "<div>\n",
       "<style scoped>\n",
       "    .dataframe tbody tr th:only-of-type {\n",
       "        vertical-align: middle;\n",
       "    }\n",
       "\n",
       "    .dataframe tbody tr th {\n",
       "        vertical-align: top;\n",
       "    }\n",
       "\n",
       "    .dataframe thead th {\n",
       "        text-align: right;\n",
       "    }\n",
       "</style>\n",
       "<table border=\"1\" class=\"dataframe\">\n",
       "  <thead>\n",
       "    <tr style=\"text-align: right;\">\n",
       "      <th></th>\n",
       "      <th>type</th>\n",
       "      <th>value</th>\n",
       "    </tr>\n",
       "  </thead>\n",
       "  <tbody>\n",
       "    <tr>\n",
       "      <th>0</th>\n",
       "      <td>essay_category</td>\n",
       "      <td>AI ethics</td>\n",
       "    </tr>\n",
       "    <tr>\n",
       "      <th>1</th>\n",
       "      <td>essay_url</td>\n",
       "      <td>https://www.kaggle.com/code/raimondextervinlua...</td>\n",
       "    </tr>\n",
       "    <tr>\n",
       "      <th>2</th>\n",
       "      <td>feedback1_url</td>\n",
       "      <td>https://www.kaggle.com/code/nagapur/ai-ethics/...</td>\n",
       "    </tr>\n",
       "    <tr>\n",
       "      <th>3</th>\n",
       "      <td>feedback2_url</td>\n",
       "      <td>https://www.kaggle.com/code/chebochitalu/ai-et...</td>\n",
       "    </tr>\n",
       "    <tr>\n",
       "      <th>4</th>\n",
       "      <td>feedback3_url</td>\n",
       "      <td>https://www.kaggle.com/code/robintomar11/2023-...</td>\n",
       "    </tr>\n",
       "  </tbody>\n",
       "</table>\n",
       "</div>"
      ],
      "text/plain": [
       "             type                                              value\n",
       "0  essay_category                                          AI ethics\n",
       "1       essay_url  https://www.kaggle.com/code/raimondextervinlua...\n",
       "2   feedback1_url  https://www.kaggle.com/code/nagapur/ai-ethics/...\n",
       "3   feedback2_url  https://www.kaggle.com/code/chebochitalu/ai-et...\n",
       "4   feedback3_url  https://www.kaggle.com/code/robintomar11/2023-..."
      ]
     },
     "execution_count": 13,
     "metadata": {},
     "output_type": "execute_result"
    }
   ],
   "source": [
    "data = [['essay_category', 'AI ethics'], \n",
    "        ['essay_url', 'https://www.kaggle.com/code/raimondextervinluan/2023-kaggle-ai-report-ai-ethics'], \n",
    "        ['feedback1_url', 'https://www.kaggle.com/code/nagapur/ai-ethics/comments#2320979'], \n",
    "        ['feedback2_url', 'https://www.kaggle.com/code/chebochitalu/ai-ethics-essay/comments#2321008'], \n",
    "        ['feedback3_url', 'https://www.kaggle.com/code/robintomar11/2023-kaggle-ai-report/comments#2280453']]  \n",
    "submission = pd.DataFrame(data, columns=['type', 'value'])\n",
    "  \n",
    "submission"
   ]
  },
  {
   "cell_type": "code",
   "execution_count": 14,
   "id": "0d8b4d0d",
   "metadata": {
    "execution": {
     "iopub.execute_input": "2023-07-14T09:00:41.788042Z",
     "iopub.status.busy": "2023-07-14T09:00:41.787622Z",
     "iopub.status.idle": "2023-07-14T09:00:41.802541Z",
     "shell.execute_reply": "2023-07-14T09:00:41.801422Z"
    },
    "papermill": {
     "duration": 0.035103,
     "end_time": "2023-07-14T09:00:41.805302",
     "exception": false,
     "start_time": "2023-07-14T09:00:41.770199",
     "status": "completed"
    },
    "tags": []
   },
   "outputs": [],
   "source": [
    "submission.to_csv('submission.csv', index=False)"
   ]
  }
 ],
 "metadata": {
  "kernelspec": {
   "display_name": "Python 3",
   "language": "python",
   "name": "python3"
  },
  "language_info": {
   "codemirror_mode": {
    "name": "ipython",
    "version": 3
   },
   "file_extension": ".py",
   "mimetype": "text/x-python",
   "name": "python",
   "nbconvert_exporter": "python",
   "pygments_lexer": "ipython3",
   "version": "3.10.10"
  },
  "papermill": {
   "default_parameters": {},
   "duration": 196.110592,
   "end_time": "2023-07-14T09:00:45.345784",
   "environment_variables": {},
   "exception": null,
   "input_path": "__notebook__.ipynb",
   "output_path": "__notebook__.ipynb",
   "parameters": {},
   "start_time": "2023-07-14T08:57:29.235192",
   "version": "2.4.0"
  }
 },
 "nbformat": 4,
 "nbformat_minor": 5
}
